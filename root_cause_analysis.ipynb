{
  "nbformat": 4,
  "nbformat_minor": 0,
  "metadata": {
    "colab": {
      "provenance": []
    },
    "kernelspec": {
      "name": "python3",
      "display_name": "Python 3"
    },
    "language_info": {
      "name": "python"
    }
  },
  "cells": [
    {
      "cell_type": "code",
      "execution_count": 1,
      "metadata": {
        "colab": {
          "base_uri": "https://localhost:8080/"
        },
        "id": "7MhS8PzP-KLT",
        "outputId": "6d587b72-0d6c-4cd5-d0f9-a187d21a9928"
      },
      "outputs": [
        {
          "output_type": "stream",
          "name": "stdout",
          "text": [
            "Requirement already satisfied: pandas in /usr/local/lib/python3.10/dist-packages (2.1.4)\n",
            "Requirement already satisfied: numpy<2,>=1.22.4 in /usr/local/lib/python3.10/dist-packages (from pandas) (1.26.4)\n",
            "Requirement already satisfied: python-dateutil>=2.8.2 in /usr/local/lib/python3.10/dist-packages (from pandas) (2.8.2)\n",
            "Requirement already satisfied: pytz>=2020.1 in /usr/local/lib/python3.10/dist-packages (from pandas) (2024.1)\n",
            "Requirement already satisfied: tzdata>=2022.1 in /usr/local/lib/python3.10/dist-packages (from pandas) (2024.1)\n",
            "Requirement already satisfied: six>=1.5 in /usr/local/lib/python3.10/dist-packages (from python-dateutil>=2.8.2->pandas) (1.16.0)\n",
            "Requirement already satisfied: tensorflow in /usr/local/lib/python3.10/dist-packages (2.17.0)\n",
            "Requirement already satisfied: absl-py>=1.0.0 in /usr/local/lib/python3.10/dist-packages (from tensorflow) (1.4.0)\n",
            "Requirement already satisfied: astunparse>=1.6.0 in /usr/local/lib/python3.10/dist-packages (from tensorflow) (1.6.3)\n",
            "Requirement already satisfied: flatbuffers>=24.3.25 in /usr/local/lib/python3.10/dist-packages (from tensorflow) (24.3.25)\n",
            "Requirement already satisfied: gast!=0.5.0,!=0.5.1,!=0.5.2,>=0.2.1 in /usr/local/lib/python3.10/dist-packages (from tensorflow) (0.6.0)\n",
            "Requirement already satisfied: google-pasta>=0.1.1 in /usr/local/lib/python3.10/dist-packages (from tensorflow) (0.2.0)\n",
            "Requirement already satisfied: h5py>=3.10.0 in /usr/local/lib/python3.10/dist-packages (from tensorflow) (3.11.0)\n",
            "Requirement already satisfied: libclang>=13.0.0 in /usr/local/lib/python3.10/dist-packages (from tensorflow) (18.1.1)\n",
            "Requirement already satisfied: ml-dtypes<0.5.0,>=0.3.1 in /usr/local/lib/python3.10/dist-packages (from tensorflow) (0.4.0)\n",
            "Requirement already satisfied: opt-einsum>=2.3.2 in /usr/local/lib/python3.10/dist-packages (from tensorflow) (3.3.0)\n",
            "Requirement already satisfied: packaging in /usr/local/lib/python3.10/dist-packages (from tensorflow) (24.1)\n",
            "Requirement already satisfied: protobuf!=4.21.0,!=4.21.1,!=4.21.2,!=4.21.3,!=4.21.4,!=4.21.5,<5.0.0dev,>=3.20.3 in /usr/local/lib/python3.10/dist-packages (from tensorflow) (3.20.3)\n",
            "Requirement already satisfied: requests<3,>=2.21.0 in /usr/local/lib/python3.10/dist-packages (from tensorflow) (2.32.3)\n",
            "Requirement already satisfied: setuptools in /usr/local/lib/python3.10/dist-packages (from tensorflow) (71.0.4)\n",
            "Requirement already satisfied: six>=1.12.0 in /usr/local/lib/python3.10/dist-packages (from tensorflow) (1.16.0)\n",
            "Requirement already satisfied: termcolor>=1.1.0 in /usr/local/lib/python3.10/dist-packages (from tensorflow) (2.4.0)\n",
            "Requirement already satisfied: typing-extensions>=3.6.6 in /usr/local/lib/python3.10/dist-packages (from tensorflow) (4.12.2)\n",
            "Requirement already satisfied: wrapt>=1.11.0 in /usr/local/lib/python3.10/dist-packages (from tensorflow) (1.16.0)\n",
            "Requirement already satisfied: grpcio<2.0,>=1.24.3 in /usr/local/lib/python3.10/dist-packages (from tensorflow) (1.64.1)\n",
            "Requirement already satisfied: tensorboard<2.18,>=2.17 in /usr/local/lib/python3.10/dist-packages (from tensorflow) (2.17.0)\n",
            "Requirement already satisfied: keras>=3.2.0 in /usr/local/lib/python3.10/dist-packages (from tensorflow) (3.4.1)\n",
            "Requirement already satisfied: tensorflow-io-gcs-filesystem>=0.23.1 in /usr/local/lib/python3.10/dist-packages (from tensorflow) (0.37.1)\n",
            "Requirement already satisfied: numpy<2.0.0,>=1.23.5 in /usr/local/lib/python3.10/dist-packages (from tensorflow) (1.26.4)\n",
            "Requirement already satisfied: wheel<1.0,>=0.23.0 in /usr/local/lib/python3.10/dist-packages (from astunparse>=1.6.0->tensorflow) (0.44.0)\n",
            "Requirement already satisfied: rich in /usr/local/lib/python3.10/dist-packages (from keras>=3.2.0->tensorflow) (13.7.1)\n",
            "Requirement already satisfied: namex in /usr/local/lib/python3.10/dist-packages (from keras>=3.2.0->tensorflow) (0.0.8)\n",
            "Requirement already satisfied: optree in /usr/local/lib/python3.10/dist-packages (from keras>=3.2.0->tensorflow) (0.12.1)\n",
            "Requirement already satisfied: charset-normalizer<4,>=2 in /usr/local/lib/python3.10/dist-packages (from requests<3,>=2.21.0->tensorflow) (3.3.2)\n",
            "Requirement already satisfied: idna<4,>=2.5 in /usr/local/lib/python3.10/dist-packages (from requests<3,>=2.21.0->tensorflow) (3.7)\n",
            "Requirement already satisfied: urllib3<3,>=1.21.1 in /usr/local/lib/python3.10/dist-packages (from requests<3,>=2.21.0->tensorflow) (2.0.7)\n",
            "Requirement already satisfied: certifi>=2017.4.17 in /usr/local/lib/python3.10/dist-packages (from requests<3,>=2.21.0->tensorflow) (2024.7.4)\n",
            "Requirement already satisfied: markdown>=2.6.8 in /usr/local/lib/python3.10/dist-packages (from tensorboard<2.18,>=2.17->tensorflow) (3.6)\n",
            "Requirement already satisfied: tensorboard-data-server<0.8.0,>=0.7.0 in /usr/local/lib/python3.10/dist-packages (from tensorboard<2.18,>=2.17->tensorflow) (0.7.2)\n",
            "Requirement already satisfied: werkzeug>=1.0.1 in /usr/local/lib/python3.10/dist-packages (from tensorboard<2.18,>=2.17->tensorflow) (3.0.3)\n",
            "Requirement already satisfied: MarkupSafe>=2.1.1 in /usr/local/lib/python3.10/dist-packages (from werkzeug>=1.0.1->tensorboard<2.18,>=2.17->tensorflow) (2.1.5)\n",
            "Requirement already satisfied: markdown-it-py>=2.2.0 in /usr/local/lib/python3.10/dist-packages (from rich->keras>=3.2.0->tensorflow) (3.0.0)\n",
            "Requirement already satisfied: pygments<3.0.0,>=2.13.0 in /usr/local/lib/python3.10/dist-packages (from rich->keras>=3.2.0->tensorflow) (2.16.1)\n",
            "Requirement already satisfied: mdurl~=0.1 in /usr/local/lib/python3.10/dist-packages (from markdown-it-py>=2.2.0->rich->keras>=3.2.0->tensorflow) (0.1.2)\n",
            "Collecting sklearn\n",
            "  Using cached sklearn-0.0.post12.tar.gz (2.6 kB)\n",
            "  \u001b[1;31merror\u001b[0m: \u001b[1msubprocess-exited-with-error\u001b[0m\n",
            "  \n",
            "  \u001b[31m×\u001b[0m \u001b[32mpython setup.py egg_info\u001b[0m did not run successfully.\n",
            "  \u001b[31m│\u001b[0m exit code: \u001b[1;36m1\u001b[0m\n",
            "  \u001b[31m╰─>\u001b[0m See above for output.\n",
            "  \n",
            "  \u001b[1;35mnote\u001b[0m: This error originates from a subprocess, and is likely not a problem with pip.\n",
            "  Preparing metadata (setup.py) ... \u001b[?25l\u001b[?25herror\n",
            "\u001b[1;31merror\u001b[0m: \u001b[1mmetadata-generation-failed\u001b[0m\n",
            "\n",
            "\u001b[31m×\u001b[0m Encountered error while generating package metadata.\n",
            "\u001b[31m╰─>\u001b[0m See above for output.\n",
            "\n",
            "\u001b[1;35mnote\u001b[0m: This is an issue with the package mentioned above, not pip.\n",
            "\u001b[1;36mhint\u001b[0m: See above for details.\n",
            "Requirement already satisfied: matplotlib in /usr/local/lib/python3.10/dist-packages (3.7.1)\n",
            "Requirement already satisfied: contourpy>=1.0.1 in /usr/local/lib/python3.10/dist-packages (from matplotlib) (1.2.1)\n",
            "Requirement already satisfied: cycler>=0.10 in /usr/local/lib/python3.10/dist-packages (from matplotlib) (0.12.1)\n",
            "Requirement already satisfied: fonttools>=4.22.0 in /usr/local/lib/python3.10/dist-packages (from matplotlib) (4.53.1)\n",
            "Requirement already satisfied: kiwisolver>=1.0.1 in /usr/local/lib/python3.10/dist-packages (from matplotlib) (1.4.5)\n",
            "Requirement already satisfied: numpy>=1.20 in /usr/local/lib/python3.10/dist-packages (from matplotlib) (1.26.4)\n",
            "Requirement already satisfied: packaging>=20.0 in /usr/local/lib/python3.10/dist-packages (from matplotlib) (24.1)\n",
            "Requirement already satisfied: pillow>=6.2.0 in /usr/local/lib/python3.10/dist-packages (from matplotlib) (9.4.0)\n",
            "Requirement already satisfied: pyparsing>=2.3.1 in /usr/local/lib/python3.10/dist-packages (from matplotlib) (3.1.2)\n",
            "Requirement already satisfied: python-dateutil>=2.7 in /usr/local/lib/python3.10/dist-packages (from matplotlib) (2.8.2)\n",
            "Requirement already satisfied: six>=1.5 in /usr/local/lib/python3.10/dist-packages (from python-dateutil>=2.7->matplotlib) (1.16.0)\n"
          ]
        }
      ],
      "source": [
        "!pip install pandas\n",
        "!pip install tensorflow\n",
        "!pip install sklearn\n",
        "!pip install matplotlib"
      ]
    },
    {
      "cell_type": "markdown",
      "source": [
        "Importing Packages"
      ],
      "metadata": {
        "id": "vul35N-H-9dX"
      }
    },
    {
      "cell_type": "code",
      "source": [
        "import pandas as pd\n",
        "import os\n",
        "import tensorflow as tf\n",
        "import numpy as np\n",
        "from sklearn.model_selection import train_test_split\n",
        "from sklearn.preprocessing import StandardScaler\n"
      ],
      "metadata": {
        "id": "kFpEN5sD_AEr"
      },
      "execution_count": 2,
      "outputs": []
    },
    {
      "cell_type": "markdown",
      "source": [
        "Loading Dataset"
      ],
      "metadata": {
        "id": "X650iYnN_FyG"
      }
    },
    {
      "cell_type": "code",
      "source": [
        "url = 'https://raw.githubusercontent.com/OmarElmanzalawy/root_cause_analysis_model/main/root_cause_analysis.csv'\n",
        "dataset = pd.read_csv(url)\n",
        "#Removing ID column\n",
        "dataset.drop('ID',inplace=True,axis=1)\n",
        "print(dataset)\n",
        "\n"
      ],
      "metadata": {
        "colab": {
          "base_uri": "https://localhost:8080/"
        },
        "id": "xlrx1QQV_Z7v",
        "outputId": "3e361956-8278-4149-aeb6-b5d77c029c5a"
      },
      "execution_count": 3,
      "outputs": [
        {
          "output_type": "stream",
          "name": "stdout",
          "text": [
            "     CPU_LOAD  MEMORY_LEAK_LOAD  DELAY  ERROR_1000  ERROR_1001  ERROR_1002  \\\n",
            "0           0                 0      0           0           1           0   \n",
            "1           0                 0      0           0           0           0   \n",
            "2           0                 1      1           0           0           1   \n",
            "3           0                 1      0           1           1           0   \n",
            "4           1                 1      0           1           0           1   \n",
            "..        ...               ...    ...         ...         ...         ...   \n",
            "995         0                 0      0           0           0           0   \n",
            "996         0                 0      0           1           0           0   \n",
            "997         1                 1      1           0           0           0   \n",
            "998         0                 1      1           1           1           0   \n",
            "999         1                 0      0           0           1           1   \n",
            "\n",
            "     ERROR_1003      ROOT_CAUSE  \n",
            "0             1     MEMORY_LEAK  \n",
            "1             1     MEMORY_LEAK  \n",
            "2             1     MEMORY_LEAK  \n",
            "3             1     MEMORY_LEAK  \n",
            "4             0   NETWORK_DELAY  \n",
            "..          ...             ...  \n",
            "995           1  DATABASE_ISSUE  \n",
            "996           0   NETWORK_DELAY  \n",
            "997           0     MEMORY_LEAK  \n",
            "998           0   NETWORK_DELAY  \n",
            "999           0  DATABASE_ISSUE  \n",
            "\n",
            "[1000 rows x 8 columns]\n"
          ]
        }
      ]
    },
    {
      "cell_type": "markdown",
      "source": [
        "Preapare Input Data for Deep Learning\n",
        "  - Convert dataFrame to numpy array\n",
        "  - Scale feature dataset\n",
        "  - Use one-hot encoding for target variables\n",
        "  - Split data into training and datasets"
      ],
      "metadata": {
        "id": "ESxbmAZUBuGW"
      }
    },
    {
      "cell_type": "code",
      "source": [
        "from sklearn import preprocessing\n",
        "#Convert target variables from string to numeric values\n",
        "\n",
        "\n",
        "#Convert feature variables to numpy array\n",
        "numpy_data = dataset.to_numpy()\n",
        "#print(dataset.head())\n",
        "\n",
        "#Separate Features and target variables\n",
        "target_data = dataset['ROOT_CAUSE']\n",
        "features_data = dataset.drop('ROOT_CAUSE',axis=1)\n",
        "\n"
      ],
      "metadata": {
        "id": "t5-CHcptBsvO"
      },
      "execution_count": 4,
      "outputs": []
    },
    {
      "cell_type": "code",
      "source": [
        "print(target_data)"
      ],
      "metadata": {
        "colab": {
          "base_uri": "https://localhost:8080/"
        },
        "id": "FJYYJIpy9NeU",
        "outputId": "6649e64b-2d49-4bdd-9deb-ed8b5a6358c0"
      },
      "execution_count": 5,
      "outputs": [
        {
          "output_type": "stream",
          "name": "stdout",
          "text": [
            "0         MEMORY_LEAK\n",
            "1         MEMORY_LEAK\n",
            "2         MEMORY_LEAK\n",
            "3         MEMORY_LEAK\n",
            "4       NETWORK_DELAY\n",
            "            ...      \n",
            "995    DATABASE_ISSUE\n",
            "996     NETWORK_DELAY\n",
            "997       MEMORY_LEAK\n",
            "998     NETWORK_DELAY\n",
            "999    DATABASE_ISSUE\n",
            "Name: ROOT_CAUSE, Length: 1000, dtype: object\n"
          ]
        }
      ]
    },
    {
      "cell_type": "code",
      "source": [
        "label_encoder = preprocessing.LabelEncoder()\n",
        "target_data = label_encoder.fit_transform(target_data)\n",
        "\n",
        "print(target_data)\n",
        "\n",
        "\n",
        "print(\"\\nFeatures before scaling :\\n------------------------------------\")\n",
        "print(features_data)\n",
        "print(\"\\nTarget before scaling :\\n------------------------------------\")\n",
        "print(target_data)\n",
        "\n",
        "#Scaling input data\n",
        "scaler = StandardScaler().fit(features_data)\n",
        "features_data = scaler.transform(features_data)\n",
        "\n",
        "#convert target variables as a one0hot-encoding array\n",
        "target_data = tf.keras.utils.to_categorical(target_data,3)\n",
        "\n",
        "print(\"\\nFeatures after scaling :\\n------------------------------------\")\n",
        "print(features_data[:5,:])\n",
        "print(\"\\nTarget after scaling :\\n------------------------------------\")\n",
        "print(target_data[:5,:])\n",
        "\n",
        "features_train,features_test,target_train,target_test = train_test_split(features_data,target_data,test_size=0.10)\n",
        "\n",
        "print(\"\\nTrain Test Dimensions:\\n------------------------------------\")\n",
        "print(features_train.shape, target_train.shape, features_test.shape, target_test.shape)\n",
        "\n"
      ],
      "metadata": {
        "colab": {
          "base_uri": "https://localhost:8080/"
        },
        "id": "aA1TEOQs_Cnu",
        "outputId": "b149c2ba-75f2-44a9-d497-ce1dd7285b05"
      },
      "execution_count": 6,
      "outputs": [
        {
          "output_type": "stream",
          "name": "stdout",
          "text": [
            "[1 1 1 1 2 2 2 0 1 2 1 0 1 0 2 1 1 1 2 1 2 1 1 1 2 1 1 2 2 1 0 1 1 2 1 0 1\n",
            " 0 0 2 2 0 1 0 2 2 2 0 2 0 1 0 0 0 2 1 2 1 0 0 2 1 0 1 2 1 0 0 1 2 1 0 1 0\n",
            " 2 1 2 2 2 2 2 1 2 1 2 2 0 1 1 0 1 1 1 1 1 2 0 1 1 1 1 1 2 0 1 2 2 0 0 1 2\n",
            " 2 2 0 0 0 1 1 1 2 1 0 2 0 0 2 2 2 1 0 2 1 0 0 0 0 0 2 1 1 2 0 0 1 0 2 1 2\n",
            " 0 2 2 1 0 2 0 0 0 2 2 1 2 2 2 0 2 2 1 0 1 1 0 1 2 1 1 0 1 1 1 0 2 1 0 0 1\n",
            " 0 1 2 0 1 1 1 2 1 2 0 0 0 0 1 0 2 1 1 0 2 0 1 1 0 0 0 2 0 0 0 1 2 0 1 0 0\n",
            " 2 1 2 2 0 1 0 2 2 2 0 0 2 2 2 1 1 1 2 0 2 0 2 0 2 1 0 1 2 1 2 2 1 2 0 0 2\n",
            " 2 1 1 0 0 0 1 0 2 2 1 0 2 2 0 0 0 2 2 0 2 1 2 0 0 2 0 2 2 2 0 0 0 0 1 1 0\n",
            " 2 1 2 0 1 1 1 1 2 2 2 0 1 2 1 0 1 0 2 1 1 1 2 1 2 1 1 1 2 1 1 2 2 1 0 1 1\n",
            " 2 1 0 1 0 0 2 2 0 1 0 2 2 2 0 2 0 1 0 0 0 2 1 2 1 0 0 2 1 0 1 2 1 0 0 1 2\n",
            " 1 0 1 0 2 1 2 2 2 2 2 1 2 1 2 2 0 1 1 0 1 1 1 1 1 2 0 1 1 1 1 1 2 0 1 2 2\n",
            " 0 0 1 2 2 2 0 0 0 1 1 1 2 1 0 2 0 0 2 2 2 1 0 2 1 0 0 0 0 0 2 1 1 2 0 0 1\n",
            " 0 2 1 2 0 2 2 1 0 2 0 0 0 2 2 1 2 2 2 0 2 2 1 0 1 1 0 1 2 1 1 0 1 1 1 0 2\n",
            " 1 0 0 1 0 1 2 0 1 1 1 2 1 2 0 0 0 0 1 0 2 1 1 0 2 0 1 1 0 0 0 2 0 0 0 1 2\n",
            " 0 1 0 0 2 1 2 2 0 1 0 2 2 2 0 0 2 2 2 1 1 1 2 0 2 0 2 0 2 1 0 1 2 1 2 2 1\n",
            " 2 0 0 2 2 1 1 0 0 0 1 0 2 2 1 0 2 2 0 0 0 2 2 0 2 1 2 0 0 2 0 2 2 2 0 0 0\n",
            " 0 1 1 0 2 1 2 0 1 1 1 1 2 2 2 0 1 2 1 0 1 0 2 1 1 1 2 1 2 1 1 1 2 1 1 2 2\n",
            " 1 0 1 1 2 1 0 1 0 0 2 2 0 1 0 2 2 2 0 2 0 1 0 0 0 2 1 2 1 0 0 2 1 0 1 2 1\n",
            " 0 0 1 2 1 0 1 0 2 1 2 2 2 2 2 1 2 1 2 2 0 1 1 0 1 1 1 1 1 2 0 1 1 1 1 1 2\n",
            " 0 1 2 2 0 0 1 2 2 2 0 0 0 1 1 1 2 1 0 2 0 0 2 2 2 1 0 2 1 0 0 0 0 0 2 1 1\n",
            " 2 0 0 1 0 2 1 2 0 2 2 1 0 2 0 0 0 2 2 1 2 2 2 0 2 2 1 0 1 1 0 1 2 1 1 0 1\n",
            " 1 1 0 2 1 0 0 1 0 1 2 0 1 1 1 2 1 2 0 0 0 0 1 0 2 1 1 0 2 0 1 1 0 0 0 2 0\n",
            " 0 0 1 2 0 1 0 0 2 1 2 2 0 1 0 2 2 2 0 0 2 2 2 1 1 1 2 0 2 0 2 0 2 1 0 1 2\n",
            " 1 2 2 1 2 0 0 2 2 1 1 0 0 0 1 0 2 2 1 0 2 2 0 0 0 2 2 0 2 1 2 0 0 2 0 2 2\n",
            " 2 0 0 0 0 1 1 0 2 1 2 0 0 2 1 1 0 2 0 1 1 0 0 0 2 0 0 0 1 2 0 1 0 0 2 1 2\n",
            " 2 0 1 0 2 2 2 0 0 2 2 2 1 1 1 2 0 2 0 2 0 2 1 0 1 2 1 2 2 1 2 0 0 2 2 1 1\n",
            " 0 0 0 1 0 2 2 1 0 2 2 0 0 0 2 2 0 2 1 2 0 0 2 0 2 2 2 0 0 0 0 1 1 0 2 1 2\n",
            " 0]\n",
            "\n",
            "Features before scaling :\n",
            "------------------------------------\n",
            "     CPU_LOAD  MEMORY_LEAK_LOAD  DELAY  ERROR_1000  ERROR_1001  ERROR_1002  \\\n",
            "0           0                 0      0           0           1           0   \n",
            "1           0                 0      0           0           0           0   \n",
            "2           0                 1      1           0           0           1   \n",
            "3           0                 1      0           1           1           0   \n",
            "4           1                 1      0           1           0           1   \n",
            "..        ...               ...    ...         ...         ...         ...   \n",
            "995         0                 0      0           0           0           0   \n",
            "996         0                 0      0           1           0           0   \n",
            "997         1                 1      1           0           0           0   \n",
            "998         0                 1      1           1           1           0   \n",
            "999         1                 0      0           0           1           1   \n",
            "\n",
            "     ERROR_1003  \n",
            "0             1  \n",
            "1             1  \n",
            "2             1  \n",
            "3             1  \n",
            "4             0  \n",
            "..          ...  \n",
            "995           1  \n",
            "996           0  \n",
            "997           0  \n",
            "998           0  \n",
            "999           0  \n",
            "\n",
            "[1000 rows x 7 columns]\n",
            "\n",
            "Target before scaling :\n",
            "------------------------------------\n",
            "[1 1 1 1 2 2 2 0 1 2 1 0 1 0 2 1 1 1 2 1 2 1 1 1 2 1 1 2 2 1 0 1 1 2 1 0 1\n",
            " 0 0 2 2 0 1 0 2 2 2 0 2 0 1 0 0 0 2 1 2 1 0 0 2 1 0 1 2 1 0 0 1 2 1 0 1 0\n",
            " 2 1 2 2 2 2 2 1 2 1 2 2 0 1 1 0 1 1 1 1 1 2 0 1 1 1 1 1 2 0 1 2 2 0 0 1 2\n",
            " 2 2 0 0 0 1 1 1 2 1 0 2 0 0 2 2 2 1 0 2 1 0 0 0 0 0 2 1 1 2 0 0 1 0 2 1 2\n",
            " 0 2 2 1 0 2 0 0 0 2 2 1 2 2 2 0 2 2 1 0 1 1 0 1 2 1 1 0 1 1 1 0 2 1 0 0 1\n",
            " 0 1 2 0 1 1 1 2 1 2 0 0 0 0 1 0 2 1 1 0 2 0 1 1 0 0 0 2 0 0 0 1 2 0 1 0 0\n",
            " 2 1 2 2 0 1 0 2 2 2 0 0 2 2 2 1 1 1 2 0 2 0 2 0 2 1 0 1 2 1 2 2 1 2 0 0 2\n",
            " 2 1 1 0 0 0 1 0 2 2 1 0 2 2 0 0 0 2 2 0 2 1 2 0 0 2 0 2 2 2 0 0 0 0 1 1 0\n",
            " 2 1 2 0 1 1 1 1 2 2 2 0 1 2 1 0 1 0 2 1 1 1 2 1 2 1 1 1 2 1 1 2 2 1 0 1 1\n",
            " 2 1 0 1 0 0 2 2 0 1 0 2 2 2 0 2 0 1 0 0 0 2 1 2 1 0 0 2 1 0 1 2 1 0 0 1 2\n",
            " 1 0 1 0 2 1 2 2 2 2 2 1 2 1 2 2 0 1 1 0 1 1 1 1 1 2 0 1 1 1 1 1 2 0 1 2 2\n",
            " 0 0 1 2 2 2 0 0 0 1 1 1 2 1 0 2 0 0 2 2 2 1 0 2 1 0 0 0 0 0 2 1 1 2 0 0 1\n",
            " 0 2 1 2 0 2 2 1 0 2 0 0 0 2 2 1 2 2 2 0 2 2 1 0 1 1 0 1 2 1 1 0 1 1 1 0 2\n",
            " 1 0 0 1 0 1 2 0 1 1 1 2 1 2 0 0 0 0 1 0 2 1 1 0 2 0 1 1 0 0 0 2 0 0 0 1 2\n",
            " 0 1 0 0 2 1 2 2 0 1 0 2 2 2 0 0 2 2 2 1 1 1 2 0 2 0 2 0 2 1 0 1 2 1 2 2 1\n",
            " 2 0 0 2 2 1 1 0 0 0 1 0 2 2 1 0 2 2 0 0 0 2 2 0 2 1 2 0 0 2 0 2 2 2 0 0 0\n",
            " 0 1 1 0 2 1 2 0 1 1 1 1 2 2 2 0 1 2 1 0 1 0 2 1 1 1 2 1 2 1 1 1 2 1 1 2 2\n",
            " 1 0 1 1 2 1 0 1 0 0 2 2 0 1 0 2 2 2 0 2 0 1 0 0 0 2 1 2 1 0 0 2 1 0 1 2 1\n",
            " 0 0 1 2 1 0 1 0 2 1 2 2 2 2 2 1 2 1 2 2 0 1 1 0 1 1 1 1 1 2 0 1 1 1 1 1 2\n",
            " 0 1 2 2 0 0 1 2 2 2 0 0 0 1 1 1 2 1 0 2 0 0 2 2 2 1 0 2 1 0 0 0 0 0 2 1 1\n",
            " 2 0 0 1 0 2 1 2 0 2 2 1 0 2 0 0 0 2 2 1 2 2 2 0 2 2 1 0 1 1 0 1 2 1 1 0 1\n",
            " 1 1 0 2 1 0 0 1 0 1 2 0 1 1 1 2 1 2 0 0 0 0 1 0 2 1 1 0 2 0 1 1 0 0 0 2 0\n",
            " 0 0 1 2 0 1 0 0 2 1 2 2 0 1 0 2 2 2 0 0 2 2 2 1 1 1 2 0 2 0 2 0 2 1 0 1 2\n",
            " 1 2 2 1 2 0 0 2 2 1 1 0 0 0 1 0 2 2 1 0 2 2 0 0 0 2 2 0 2 1 2 0 0 2 0 2 2\n",
            " 2 0 0 0 0 1 1 0 2 1 2 0 0 2 1 1 0 2 0 1 1 0 0 0 2 0 0 0 1 2 0 1 0 0 2 1 2\n",
            " 2 0 1 0 2 2 2 0 0 2 2 2 1 1 1 2 0 2 0 2 0 2 1 0 1 2 1 2 2 1 2 0 0 2 2 1 1\n",
            " 0 0 0 1 0 2 2 1 0 2 2 0 0 0 2 2 0 2 1 2 0 0 2 0 2 2 2 0 0 0 0 1 1 0 2 1 2\n",
            " 0]\n",
            "\n",
            "Features after scaling :\n",
            "------------------------------------\n",
            "[[-0.94548368 -0.84747452 -0.80632811 -0.80801767  1.03046381 -0.87210285\n",
            "   1.27462619]\n",
            " [-0.94548368 -0.84747452 -0.80632811 -0.80801767 -0.97043679 -0.87210285\n",
            "   1.27462619]\n",
            " [-0.94548368  1.17997648  1.24018993 -0.80801767 -0.97043679  1.14665375\n",
            "   1.27462619]\n",
            " [-0.94548368  1.17997648 -0.80632811  1.23759669  1.03046381 -0.87210285\n",
            "   1.27462619]\n",
            " [ 1.05765971  1.17997648 -0.80632811  1.23759669 -0.97043679  1.14665375\n",
            "  -0.78454374]]\n",
            "\n",
            "Target after scaling :\n",
            "------------------------------------\n",
            "[[0. 1. 0.]\n",
            " [0. 1. 0.]\n",
            " [0. 1. 0.]\n",
            " [0. 1. 0.]\n",
            " [0. 0. 1.]]\n",
            "\n",
            "Train Test Dimensions:\n",
            "------------------------------------\n",
            "(900, 7) (900, 3) (100, 7) (100, 3)\n"
          ]
        }
      ]
    },
    {
      "cell_type": "markdown",
      "source": [
        "Creating a Model in Keras\n",
        "  - Hidden layers\n",
        "  - Nodes in each layer\n",
        "  - Activation functions\n",
        "  - Loss Function & Accuracy measurments"
      ],
      "metadata": {
        "id": "w3ifqDG4GljJ"
      }
    },
    {
      "cell_type": "code",
      "source": [
        "from tensorflow import keras\n",
        "CLASS_NO = 3\n",
        "\n",
        "#Creating sequential model in keras\n",
        "model = keras.models.Sequential()\n",
        "\n",
        "#TODO: SEE WHY CAN'T MAKE 7 input shapes\n",
        "#First Hidden Layer\n",
        "model.add(keras.layers.Dense(128,\n",
        "    input_shape=(7,),\n",
        "    name = 'Hidden-Layer-1',\n",
        "    activation='relu'\n",
        "))\n",
        "\n",
        "#Second Hidden Layer\n",
        "model.add(keras.layers.Dense(128,\n",
        "    name = 'Hidden-Layer-2',\n",
        "    activation='relu'\n",
        "))\n",
        "\n",
        "#Output Layer\n",
        "model.add(keras.layers.Dense(CLASS_NO,\n",
        "    name='Output-Layer',\n",
        "    activation='softmax'\n",
        "))\n",
        "\n",
        "#Compile the model with loss & metrics\n",
        "model.compile(loss='categorical_crossentropy',\n",
        "              metrics=['accuracy'])\n",
        "\n",
        "model.summary()"
      ],
      "metadata": {
        "colab": {
          "base_uri": "https://localhost:8080/",
          "height": 293
        },
        "id": "jW043TcdG9UB",
        "outputId": "1e61211c-41f6-4458-c79d-004752a2f309"
      },
      "execution_count": 7,
      "outputs": [
        {
          "output_type": "stream",
          "name": "stderr",
          "text": [
            "/usr/local/lib/python3.10/dist-packages/keras/src/layers/core/dense.py:87: UserWarning: Do not pass an `input_shape`/`input_dim` argument to a layer. When using Sequential models, prefer using an `Input(shape)` object as the first layer in the model instead.\n",
            "  super().__init__(activity_regularizer=activity_regularizer, **kwargs)\n"
          ]
        },
        {
          "output_type": "display_data",
          "data": {
            "text/plain": [
              "\u001b[1mModel: \"sequential\"\u001b[0m\n"
            ],
            "text/html": [
              "<pre style=\"white-space:pre;overflow-x:auto;line-height:normal;font-family:Menlo,'DejaVu Sans Mono',consolas,'Courier New',monospace\"><span style=\"font-weight: bold\">Model: \"sequential\"</span>\n",
              "</pre>\n"
            ]
          },
          "metadata": {}
        },
        {
          "output_type": "display_data",
          "data": {
            "text/plain": [
              "┏━━━━━━━━━━━━━━━━━━━━━━━━━━━━━━━━━━━━━━┳━━━━━━━━━━━━━━━━━━━━━━━━━━━━━┳━━━━━━━━━━━━━━━━━┓\n",
              "┃\u001b[1m \u001b[0m\u001b[1mLayer (type)                        \u001b[0m\u001b[1m \u001b[0m┃\u001b[1m \u001b[0m\u001b[1mOutput Shape               \u001b[0m\u001b[1m \u001b[0m┃\u001b[1m \u001b[0m\u001b[1m        Param #\u001b[0m\u001b[1m \u001b[0m┃\n",
              "┡━━━━━━━━━━━━━━━━━━━━━━━━━━━━━━━━━━━━━━╇━━━━━━━━━━━━━━━━━━━━━━━━━━━━━╇━━━━━━━━━━━━━━━━━┩\n",
              "│ Hidden-Layer-1 (\u001b[38;5;33mDense\u001b[0m)               │ (\u001b[38;5;45mNone\u001b[0m, \u001b[38;5;34m128\u001b[0m)                 │           \u001b[38;5;34m1,024\u001b[0m │\n",
              "├──────────────────────────────────────┼─────────────────────────────┼─────────────────┤\n",
              "│ Hidden-Layer-2 (\u001b[38;5;33mDense\u001b[0m)               │ (\u001b[38;5;45mNone\u001b[0m, \u001b[38;5;34m128\u001b[0m)                 │          \u001b[38;5;34m16,512\u001b[0m │\n",
              "├──────────────────────────────────────┼─────────────────────────────┼─────────────────┤\n",
              "│ Output-Layer (\u001b[38;5;33mDense\u001b[0m)                 │ (\u001b[38;5;45mNone\u001b[0m, \u001b[38;5;34m3\u001b[0m)                   │             \u001b[38;5;34m387\u001b[0m │\n",
              "└──────────────────────────────────────┴─────────────────────────────┴─────────────────┘\n"
            ],
            "text/html": [
              "<pre style=\"white-space:pre;overflow-x:auto;line-height:normal;font-family:Menlo,'DejaVu Sans Mono',consolas,'Courier New',monospace\">┏━━━━━━━━━━━━━━━━━━━━━━━━━━━━━━━━━━━━━━┳━━━━━━━━━━━━━━━━━━━━━━━━━━━━━┳━━━━━━━━━━━━━━━━━┓\n",
              "┃<span style=\"font-weight: bold\"> Layer (type)                         </span>┃<span style=\"font-weight: bold\"> Output Shape                </span>┃<span style=\"font-weight: bold\">         Param # </span>┃\n",
              "┡━━━━━━━━━━━━━━━━━━━━━━━━━━━━━━━━━━━━━━╇━━━━━━━━━━━━━━━━━━━━━━━━━━━━━╇━━━━━━━━━━━━━━━━━┩\n",
              "│ Hidden-Layer-1 (<span style=\"color: #0087ff; text-decoration-color: #0087ff\">Dense</span>)               │ (<span style=\"color: #00d7ff; text-decoration-color: #00d7ff\">None</span>, <span style=\"color: #00af00; text-decoration-color: #00af00\">128</span>)                 │           <span style=\"color: #00af00; text-decoration-color: #00af00\">1,024</span> │\n",
              "├──────────────────────────────────────┼─────────────────────────────┼─────────────────┤\n",
              "│ Hidden-Layer-2 (<span style=\"color: #0087ff; text-decoration-color: #0087ff\">Dense</span>)               │ (<span style=\"color: #00d7ff; text-decoration-color: #00d7ff\">None</span>, <span style=\"color: #00af00; text-decoration-color: #00af00\">128</span>)                 │          <span style=\"color: #00af00; text-decoration-color: #00af00\">16,512</span> │\n",
              "├──────────────────────────────────────┼─────────────────────────────┼─────────────────┤\n",
              "│ Output-Layer (<span style=\"color: #0087ff; text-decoration-color: #0087ff\">Dense</span>)                 │ (<span style=\"color: #00d7ff; text-decoration-color: #00d7ff\">None</span>, <span style=\"color: #00af00; text-decoration-color: #00af00\">3</span>)                   │             <span style=\"color: #00af00; text-decoration-color: #00af00\">387</span> │\n",
              "└──────────────────────────────────────┴─────────────────────────────┴─────────────────┘\n",
              "</pre>\n"
            ]
          },
          "metadata": {}
        },
        {
          "output_type": "display_data",
          "data": {
            "text/plain": [
              "\u001b[1m Total params: \u001b[0m\u001b[38;5;34m17,923\u001b[0m (70.01 KB)\n"
            ],
            "text/html": [
              "<pre style=\"white-space:pre;overflow-x:auto;line-height:normal;font-family:Menlo,'DejaVu Sans Mono',consolas,'Courier New',monospace\"><span style=\"font-weight: bold\"> Total params: </span><span style=\"color: #00af00; text-decoration-color: #00af00\">17,923</span> (70.01 KB)\n",
              "</pre>\n"
            ]
          },
          "metadata": {}
        },
        {
          "output_type": "display_data",
          "data": {
            "text/plain": [
              "\u001b[1m Trainable params: \u001b[0m\u001b[38;5;34m17,923\u001b[0m (70.01 KB)\n"
            ],
            "text/html": [
              "<pre style=\"white-space:pre;overflow-x:auto;line-height:normal;font-family:Menlo,'DejaVu Sans Mono',consolas,'Courier New',monospace\"><span style=\"font-weight: bold\"> Trainable params: </span><span style=\"color: #00af00; text-decoration-color: #00af00\">17,923</span> (70.01 KB)\n",
              "</pre>\n"
            ]
          },
          "metadata": {}
        },
        {
          "output_type": "display_data",
          "data": {
            "text/plain": [
              "\u001b[1m Non-trainable params: \u001b[0m\u001b[38;5;34m0\u001b[0m (0.00 B)\n"
            ],
            "text/html": [
              "<pre style=\"white-space:pre;overflow-x:auto;line-height:normal;font-family:Menlo,'DejaVu Sans Mono',consolas,'Courier New',monospace\"><span style=\"font-weight: bold\"> Non-trainable params: </span><span style=\"color: #00af00; text-decoration-color: #00af00\">0</span> (0.00 B)\n",
              "</pre>\n"
            ]
          },
          "metadata": {}
        }
      ]
    },
    {
      "cell_type": "markdown",
      "source": [
        "Training and Evaluating the Model"
      ],
      "metadata": {
        "id": "kZn6DwZ_L0Ka"
      }
    },
    {
      "cell_type": "code",
      "source": [
        "#vebose --> 1 lets you see the progress of the training\n",
        "VERBOSE = 1\n",
        "\n",
        "#Hyper Paramaters Setup\n",
        "BATCH_SIZE = 16\n",
        "\n",
        "EPOCHS = 10\n",
        "\n",
        "VALIDATION_SPLIT = 0.2\n",
        "\n",
        "print(\"\\nTraining Progress:\\n------------------------------------\")\n",
        "\n",
        "history = model.fit(features_train,\n",
        "                    target_train,\n",
        "                    batch_size = BATCH_SIZE,\n",
        "                    epochs = EPOCHS,\n",
        "                    verbose = VERBOSE,\n",
        "                    validation_split = VALIDATION_SPLIT,\n",
        "                    )\n",
        "\n",
        "print(\"\\nAccuracy during Training :\\n------------------------------------\")\n",
        "import matplotlib.pyplot as plt\n",
        "\n",
        "#plotting accuracy of the model after each epoch\n",
        "pd.DataFrame(history.history)['accuracy'].plot(figsize=(8,5))\n",
        "plt.title(\"Accuracy improvements with Epoch\")\n",
        "plt.show()\n",
        "\n",
        "#Evaluating the model\n",
        "print(\"\\nEvaluation against Test Dataset :\\n------------------------------------\")\n",
        "model.evaluate(features_test,target_test)"
      ],
      "metadata": {
        "colab": {
          "base_uri": "https://localhost:8080/",
          "height": 1000
        },
        "id": "arQfmUNoL4ii",
        "outputId": "e5cd6df0-595f-44dd-d272-015d66145f53"
      },
      "execution_count": 8,
      "outputs": [
        {
          "output_type": "stream",
          "name": "stdout",
          "text": [
            "\n",
            "Training Progress:\n",
            "------------------------------------\n",
            "Epoch 1/10\n",
            "\u001b[1m45/45\u001b[0m \u001b[32m━━━━━━━━━━━━━━━━━━━━\u001b[0m\u001b[37m\u001b[0m \u001b[1m4s\u001b[0m 17ms/step - accuracy: 0.7450 - loss: 0.7068 - val_accuracy: 0.7500 - val_loss: 0.5601\n",
            "Epoch 2/10\n",
            "\u001b[1m45/45\u001b[0m \u001b[32m━━━━━━━━━━━━━━━━━━━━\u001b[0m\u001b[37m\u001b[0m \u001b[1m1s\u001b[0m 5ms/step - accuracy: 0.8175 - loss: 0.4525 - val_accuracy: 0.7667 - val_loss: 0.5604\n",
            "Epoch 3/10\n",
            "\u001b[1m45/45\u001b[0m \u001b[32m━━━━━━━━━━━━━━━━━━━━\u001b[0m\u001b[37m\u001b[0m \u001b[1m1s\u001b[0m 7ms/step - accuracy: 0.8647 - loss: 0.3787 - val_accuracy: 0.8222 - val_loss: 0.5141\n",
            "Epoch 4/10\n",
            "\u001b[1m45/45\u001b[0m \u001b[32m━━━━━━━━━━━━━━━━━━━━\u001b[0m\u001b[37m\u001b[0m \u001b[1m1s\u001b[0m 9ms/step - accuracy: 0.8462 - loss: 0.3643 - val_accuracy: 0.8056 - val_loss: 0.5181\n",
            "Epoch 5/10\n",
            "\u001b[1m45/45\u001b[0m \u001b[32m━━━━━━━━━━━━━━━━━━━━\u001b[0m\u001b[37m\u001b[0m \u001b[1m1s\u001b[0m 7ms/step - accuracy: 0.8431 - loss: 0.3836 - val_accuracy: 0.8056 - val_loss: 0.5230\n",
            "Epoch 6/10\n",
            "\u001b[1m45/45\u001b[0m \u001b[32m━━━━━━━━━━━━━━━━━━━━\u001b[0m\u001b[37m\u001b[0m \u001b[1m1s\u001b[0m 6ms/step - accuracy: 0.8617 - loss: 0.3681 - val_accuracy: 0.8111 - val_loss: 0.5138\n",
            "Epoch 7/10\n",
            "\u001b[1m45/45\u001b[0m \u001b[32m━━━━━━━━━━━━━━━━━━━━\u001b[0m\u001b[37m\u001b[0m \u001b[1m1s\u001b[0m 7ms/step - accuracy: 0.8582 - loss: 0.3748 - val_accuracy: 0.7889 - val_loss: 0.5196\n",
            "Epoch 8/10\n",
            "\u001b[1m45/45\u001b[0m \u001b[32m━━━━━━━━━━━━━━━━━━━━\u001b[0m\u001b[37m\u001b[0m \u001b[1m1s\u001b[0m 7ms/step - accuracy: 0.8645 - loss: 0.3199 - val_accuracy: 0.7889 - val_loss: 0.4913\n",
            "Epoch 9/10\n",
            "\u001b[1m45/45\u001b[0m \u001b[32m━━━━━━━━━━━━━━━━━━━━\u001b[0m\u001b[37m\u001b[0m \u001b[1m1s\u001b[0m 9ms/step - accuracy: 0.8674 - loss: 0.3243 - val_accuracy: 0.8000 - val_loss: 0.4743\n",
            "Epoch 10/10\n",
            "\u001b[1m45/45\u001b[0m \u001b[32m━━━━━━━━━━━━━━━━━━━━\u001b[0m\u001b[37m\u001b[0m \u001b[1m0s\u001b[0m 5ms/step - accuracy: 0.8632 - loss: 0.3455 - val_accuracy: 0.7778 - val_loss: 0.5368\n",
            "\n",
            "Accuracy during Training :\n",
            "------------------------------------\n"
          ]
        },
        {
          "output_type": "display_data",
          "data": {
            "text/plain": [
              "<Figure size 800x500 with 1 Axes>"
            ],
            "image/png": "[encoded data removed]"
          },
          "metadata": {}
        },
        {
          "output_type": "stream",
          "name": "stdout",
          "text": [
            "\n",
            "Evaluation against Test Dataset :\n",
            "------------------------------------\n",
            "\u001b[1m4/4\u001b[0m \u001b[32m━━━━━━━━━━━━━━━━━━━━\u001b[0m\u001b[37m\u001b[0m \u001b[1m0s\u001b[0m 7ms/step - accuracy: 0.8183 - loss: 0.4030 \n"
          ]
        },
        {
          "output_type": "execute_result",
          "data": {
            "text/plain": [
              "[0.37693750858306885, 0.8399999737739563]"
            ]
          },
          "metadata": {},
          "execution_count": 8
        }
      ]
    },
    {
      "cell_type": "markdown",
      "source": [
        "Saving and Loading Our Model"
      ],
      "metadata": {
        "id": "IVojmgm8QO9R"
      }
    },
    {
      "cell_type": "code",
      "source": [
        "model.save('root_cause.keras')\n",
        "\n",
        "loaded_model = keras.models.load_model('root_cause.keras')\n",
        "\n",
        "loaded_model.summary()"
      ],
      "metadata": {
        "colab": {
          "base_uri": "https://localhost:8080/",
          "height": 255
        },
        "id": "DEYR6PaDQRj2",
        "outputId": "f22a7d48-34be-4836-d52b-e4611fc462a2"
      },
      "execution_count": 9,
      "outputs": [
        {
          "output_type": "display_data",
          "data": {
            "text/plain": [
              "\u001b[1mModel: \"sequential\"\u001b[0m\n"
            ],
            "text/html": [
              "<pre style=\"white-space:pre;overflow-x:auto;line-height:normal;font-family:Menlo,'DejaVu Sans Mono',consolas,'Courier New',monospace\"><span style=\"font-weight: bold\">Model: \"sequential\"</span>\n",
              "</pre>\n"
            ]
          },
          "metadata": {}
        },
        {
          "output_type": "display_data",
          "data": {
            "text/plain": [
              "┏━━━━━━━━━━━━━━━━━━━━━━━━━━━━━━━━━━━━━━┳━━━━━━━━━━━━━━━━━━━━━━━━━━━━━┳━━━━━━━━━━━━━━━━━┓\n",
              "┃\u001b[1m \u001b[0m\u001b[1mLayer (type)                        \u001b[0m\u001b[1m \u001b[0m┃\u001b[1m \u001b[0m\u001b[1mOutput Shape               \u001b[0m\u001b[1m \u001b[0m┃\u001b[1m \u001b[0m\u001b[1m        Param #\u001b[0m\u001b[1m \u001b[0m┃\n",
              "┡━━━━━━━━━━━━━━━━━━━━━━━━━━━━━━━━━━━━━━╇━━━━━━━━━━━━━━━━━━━━━━━━━━━━━╇━━━━━━━━━━━━━━━━━┩\n",
              "│ Hidden-Layer-1 (\u001b[38;5;33mDense\u001b[0m)               │ (\u001b[38;5;45mNone\u001b[0m, \u001b[38;5;34m128\u001b[0m)                 │           \u001b[38;5;34m1,024\u001b[0m │\n",
              "├──────────────────────────────────────┼─────────────────────────────┼─────────────────┤\n",
              "│ Hidden-Layer-2 (\u001b[38;5;33mDense\u001b[0m)               │ (\u001b[38;5;45mNone\u001b[0m, \u001b[38;5;34m128\u001b[0m)                 │          \u001b[38;5;34m16,512\u001b[0m │\n",
              "├──────────────────────────────────────┼─────────────────────────────┼─────────────────┤\n",
              "│ Output-Layer (\u001b[38;5;33mDense\u001b[0m)                 │ (\u001b[38;5;45mNone\u001b[0m, \u001b[38;5;34m3\u001b[0m)                   │             \u001b[38;5;34m387\u001b[0m │\n",
              "└──────────────────────────────────────┴─────────────────────────────┴─────────────────┘\n"
            ],
            "text/html": [
              "<pre style=\"white-space:pre;overflow-x:auto;line-height:normal;font-family:Menlo,'DejaVu Sans Mono',consolas,'Courier New',monospace\">┏━━━━━━━━━━━━━━━━━━━━━━━━━━━━━━━━━━━━━━┳━━━━━━━━━━━━━━━━━━━━━━━━━━━━━┳━━━━━━━━━━━━━━━━━┓\n",
              "┃<span style=\"font-weight: bold\"> Layer (type)                         </span>┃<span style=\"font-weight: bold\"> Output Shape                </span>┃<span style=\"font-weight: bold\">         Param # </span>┃\n",
              "┡━━━━━━━━━━━━━━━━━━━━━━━━━━━━━━━━━━━━━━╇━━━━━━━━━━━━━━━━━━━━━━━━━━━━━╇━━━━━━━━━━━━━━━━━┩\n",
              "│ Hidden-Layer-1 (<span style=\"color: #0087ff; text-decoration-color: #0087ff\">Dense</span>)               │ (<span style=\"color: #00d7ff; text-decoration-color: #00d7ff\">None</span>, <span style=\"color: #00af00; text-decoration-color: #00af00\">128</span>)                 │           <span style=\"color: #00af00; text-decoration-color: #00af00\">1,024</span> │\n",
              "├──────────────────────────────────────┼─────────────────────────────┼─────────────────┤\n",
              "│ Hidden-Layer-2 (<span style=\"color: #0087ff; text-decoration-color: #0087ff\">Dense</span>)               │ (<span style=\"color: #00d7ff; text-decoration-color: #00d7ff\">None</span>, <span style=\"color: #00af00; text-decoration-color: #00af00\">128</span>)                 │          <span style=\"color: #00af00; text-decoration-color: #00af00\">16,512</span> │\n",
              "├──────────────────────────────────────┼─────────────────────────────┼─────────────────┤\n",
              "│ Output-Layer (<span style=\"color: #0087ff; text-decoration-color: #0087ff\">Dense</span>)                 │ (<span style=\"color: #00d7ff; text-decoration-color: #00d7ff\">None</span>, <span style=\"color: #00af00; text-decoration-color: #00af00\">3</span>)                   │             <span style=\"color: #00af00; text-decoration-color: #00af00\">387</span> │\n",
              "└──────────────────────────────────────┴─────────────────────────────┴─────────────────┘\n",
              "</pre>\n"
            ]
          },
          "metadata": {}
        },
        {
          "output_type": "display_data",
          "data": {
            "text/plain": [
              "\u001b[1m Total params: \u001b[0m\u001b[38;5;34m35,848\u001b[0m (140.04 KB)\n"
            ],
            "text/html": [
              "<pre style=\"white-space:pre;overflow-x:auto;line-height:normal;font-family:Menlo,'DejaVu Sans Mono',consolas,'Courier New',monospace\"><span style=\"font-weight: bold\"> Total params: </span><span style=\"color: #00af00; text-decoration-color: #00af00\">35,848</span> (140.04 KB)\n",
              "</pre>\n"
            ]
          },
          "metadata": {}
        },
        {
          "output_type": "display_data",
          "data": {
            "text/plain": [
              "\u001b[1m Trainable params: \u001b[0m\u001b[38;5;34m17,923\u001b[0m (70.01 KB)\n"
            ],
            "text/html": [
              "<pre style=\"white-space:pre;overflow-x:auto;line-height:normal;font-family:Menlo,'DejaVu Sans Mono',consolas,'Courier New',monospace\"><span style=\"font-weight: bold\"> Trainable params: </span><span style=\"color: #00af00; text-decoration-color: #00af00\">17,923</span> (70.01 KB)\n",
              "</pre>\n"
            ]
          },
          "metadata": {}
        },
        {
          "output_type": "display_data",
          "data": {
            "text/plain": [
              "\u001b[1m Non-trainable params: \u001b[0m\u001b[38;5;34m0\u001b[0m (0.00 B)\n"
            ],
            "text/html": [
              "<pre style=\"white-space:pre;overflow-x:auto;line-height:normal;font-family:Menlo,'DejaVu Sans Mono',consolas,'Courier New',monospace\"><span style=\"font-weight: bold\"> Non-trainable params: </span><span style=\"color: #00af00; text-decoration-color: #00af00\">0</span> (0.00 B)\n",
              "</pre>\n"
            ]
          },
          "metadata": {}
        },
        {
          "output_type": "display_data",
          "data": {
            "text/plain": [
              "\u001b[1m Optimizer params: \u001b[0m\u001b[38;5;34m17,925\u001b[0m (70.02 KB)\n"
            ],
            "text/html": [
              "<pre style=\"white-space:pre;overflow-x:auto;line-height:normal;font-family:Menlo,'DejaVu Sans Mono',consolas,'Courier New',monospace\"><span style=\"font-weight: bold\"> Optimizer params: </span><span style=\"color: #00af00; text-decoration-color: #00af00\">17,925</span> (70.02 KB)\n",
              "</pre>\n"
            ]
          },
          "metadata": {}
        }
      ]
    },
    {
      "cell_type": "markdown",
      "source": [
        "Trying out the Trained Model"
      ],
      "metadata": {
        "id": "Un0cEbBJWT95"
      }
    },
    {
      "cell_type": "code",
      "source": [
        "#DOESNT PRINT OUT ROOT_CAUSE IN TEXT EQUIVALENT FOR SOME REASON\n",
        "#FIX\n",
        "\n",
        "prediction_input = [[1,0,0,0,0,1,0]]\n",
        "\n",
        "\n",
        "scaled_input = scaler.transform(prediction_input)\n",
        "\n",
        "raw_prediction = model.predict(scaled_input)\n",
        "\n",
        "prediction = np.argmax(raw_prediction)\n",
        "print(prediction)\n",
        "print('Prediction is ',label_encoder.inverse_transform([prediction]))"
      ],
      "metadata": {
        "colab": {
          "base_uri": "https://localhost:8080/"
        },
        "id": "EzivXfGHWZol",
        "outputId": "25238541-45b7-4a65-b2cc-20518885292f"
      },
      "execution_count": 12,
      "outputs": [
        {
          "output_type": "stream",
          "name": "stdout",
          "text": [
            "\u001b[1m1/1\u001b[0m \u001b[32m━━━━━━━━━━━━━━━━━━━━\u001b[0m\u001b[37m\u001b[0m \u001b[1m0s\u001b[0m 37ms/step\n",
            "0\n",
            "Prediction is  ['DATABASE_ISSUE']\n"
          ]
        },
        {
          "output_type": "stream",
          "name": "stderr",
          "text": [
            "/usr/local/lib/python3.10/dist-packages/sklearn/base.py:465: UserWarning: X does not have valid feature names, but StandardScaler was fitted with feature names\n",
            "  warnings.warn(\n"
          ]
        }
      ]
    }
  ]
}